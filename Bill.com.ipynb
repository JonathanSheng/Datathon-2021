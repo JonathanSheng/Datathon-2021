{
 "cells": [
  {
   "cell_type": "code",
   "execution_count": 3,
   "metadata": {},
   "outputs": [
    {
     "data": {
      "text/html": [
       "<div>\n",
       "<style scoped>\n",
       "    .dataframe tbody tr th:only-of-type {\n",
       "        vertical-align: middle;\n",
       "    }\n",
       "\n",
       "    .dataframe tbody tr th {\n",
       "        vertical-align: top;\n",
       "    }\n",
       "\n",
       "    .dataframe thead th {\n",
       "        text-align: right;\n",
       "    }\n",
       "</style>\n",
       "<table border=\"1\" class=\"dataframe\">\n",
       "  <thead>\n",
       "    <tr style=\"text-align: right;\">\n",
       "      <th></th>\n",
       "      <th>OBJECTID</th>\n",
       "      <th>AGENCY</th>\n",
       "      <th>TRANSACTION_DATE</th>\n",
       "      <th>TRANSACTION_AMOUNT</th>\n",
       "      <th>VENDOR_NAME</th>\n",
       "      <th>VENDOR_STATE_PROVINCE</th>\n",
       "      <th>MCC_DESCRIPTION</th>\n",
       "    </tr>\n",
       "  </thead>\n",
       "  <tbody>\n",
       "    <tr>\n",
       "      <th>0</th>\n",
       "      <td>64</td>\n",
       "      <td>Department of Health</td>\n",
       "      <td>2009/01/06 05:00:00+00</td>\n",
       "      <td>4.75</td>\n",
       "      <td>NPDB NPDB-HIPDB.HRSA.G</td>\n",
       "      <td>VA</td>\n",
       "      <td>Government Services, Not Elsewhere Classified</td>\n",
       "    </tr>\n",
       "    <tr>\n",
       "      <th>1</th>\n",
       "      <td>65</td>\n",
       "      <td>Department of Health</td>\n",
       "      <td>2009/01/06 05:00:00+00</td>\n",
       "      <td>-464.48</td>\n",
       "      <td>PRESSTEK</td>\n",
       "      <td>NH</td>\n",
       "      <td>Commercial Photography, Art &amp; Graphics</td>\n",
       "    </tr>\n",
       "    <tr>\n",
       "      <th>2</th>\n",
       "      <td>66</td>\n",
       "      <td>Department of Health</td>\n",
       "      <td>2009/01/05 05:00:00+00</td>\n",
       "      <td>425.00</td>\n",
       "      <td>AMERICAN ASSOC00 OF 00</td>\n",
       "      <td>VA</td>\n",
       "      <td>Charitable And Social Service Organizations</td>\n",
       "    </tr>\n",
       "    <tr>\n",
       "      <th>3</th>\n",
       "      <td>67</td>\n",
       "      <td>Department of Health</td>\n",
       "      <td>2009/01/06 05:00:00+00</td>\n",
       "      <td>4.75</td>\n",
       "      <td>HIPDB NPDB-HIPDB.HRSA.</td>\n",
       "      <td>VA</td>\n",
       "      <td>Government Services, Not Elsewhere Classified</td>\n",
       "    </tr>\n",
       "    <tr>\n",
       "      <th>4</th>\n",
       "      <td>68</td>\n",
       "      <td>Department of Health</td>\n",
       "      <td>2009/01/06 05:00:00+00</td>\n",
       "      <td>4.75</td>\n",
       "      <td>HIPDB NPDB-HIPDB.HRSA.</td>\n",
       "      <td>VA</td>\n",
       "      <td>Government Services, Not Elsewhere Classified</td>\n",
       "    </tr>\n",
       "    <tr>\n",
       "      <th>5</th>\n",
       "      <td>69</td>\n",
       "      <td>Fire &amp; Emergency Medical Services</td>\n",
       "      <td>2009/01/06 05:00:00+00</td>\n",
       "      <td>2385.57</td>\n",
       "      <td>AWL*PRENTICE HALL</td>\n",
       "      <td>NJ</td>\n",
       "      <td>Direct Marketing-Not Elsewhere Classified</td>\n",
       "    </tr>\n",
       "    <tr>\n",
       "      <th>6</th>\n",
       "      <td>70</td>\n",
       "      <td>Department of  Youth Rehabilitation Services</td>\n",
       "      <td>2009/01/06 05:00:00+00</td>\n",
       "      <td>1981.25</td>\n",
       "      <td>DC POST SECONDARY EDUC</td>\n",
       "      <td>DC</td>\n",
       "      <td>College, Universities, Professional Schools</td>\n",
       "    </tr>\n",
       "    <tr>\n",
       "      <th>7</th>\n",
       "      <td>71</td>\n",
       "      <td>Department of Health</td>\n",
       "      <td>2009/01/05 05:00:00+00</td>\n",
       "      <td>855.37</td>\n",
       "      <td>CAPITAL SERVICES AND S</td>\n",
       "      <td>DC</td>\n",
       "      <td>Office and Commercial Furniture</td>\n",
       "    </tr>\n",
       "    <tr>\n",
       "      <th>8</th>\n",
       "      <td>72</td>\n",
       "      <td>Fire &amp; Emergency Medical Services</td>\n",
       "      <td>2009/01/06 05:00:00+00</td>\n",
       "      <td>320.00</td>\n",
       "      <td>TOUCAN BUSINESS FORMS,</td>\n",
       "      <td>MD</td>\n",
       "      <td>Industrial Supplies, Not Elsewhere Classified</td>\n",
       "    </tr>\n",
       "    <tr>\n",
       "      <th>9</th>\n",
       "      <td>73</td>\n",
       "      <td>District Department of Transportation</td>\n",
       "      <td>2009/01/06 05:00:00+00</td>\n",
       "      <td>2231.43</td>\n",
       "      <td>JIMMIE MUSCATELLOS</td>\n",
       "      <td>DC</td>\n",
       "      <td>Uniforms and Commercial Clothing</td>\n",
       "    </tr>\n",
       "  </tbody>\n",
       "</table>\n",
       "</div>"
      ],
      "text/plain": [
       "   OBJECTID                                        AGENCY  \\\n",
       "0        64                          Department of Health   \n",
       "1        65                          Department of Health   \n",
       "2        66                          Department of Health   \n",
       "3        67                          Department of Health   \n",
       "4        68                          Department of Health   \n",
       "5        69             Fire & Emergency Medical Services   \n",
       "6        70  Department of  Youth Rehabilitation Services   \n",
       "7        71                          Department of Health   \n",
       "8        72             Fire & Emergency Medical Services   \n",
       "9        73         District Department of Transportation   \n",
       "\n",
       "         TRANSACTION_DATE  TRANSACTION_AMOUNT             VENDOR_NAME  \\\n",
       "0  2009/01/06 05:00:00+00                4.75  NPDB NPDB-HIPDB.HRSA.G   \n",
       "1  2009/01/06 05:00:00+00             -464.48                PRESSTEK   \n",
       "2  2009/01/05 05:00:00+00              425.00  AMERICAN ASSOC00 OF 00   \n",
       "3  2009/01/06 05:00:00+00                4.75  HIPDB NPDB-HIPDB.HRSA.   \n",
       "4  2009/01/06 05:00:00+00                4.75  HIPDB NPDB-HIPDB.HRSA.   \n",
       "5  2009/01/06 05:00:00+00             2385.57       AWL*PRENTICE HALL   \n",
       "6  2009/01/06 05:00:00+00             1981.25  DC POST SECONDARY EDUC   \n",
       "7  2009/01/05 05:00:00+00              855.37  CAPITAL SERVICES AND S   \n",
       "8  2009/01/06 05:00:00+00              320.00  TOUCAN BUSINESS FORMS,   \n",
       "9  2009/01/06 05:00:00+00             2231.43      JIMMIE MUSCATELLOS   \n",
       "\n",
       "  VENDOR_STATE_PROVINCE                                MCC_DESCRIPTION  \n",
       "0                    VA  Government Services, Not Elsewhere Classified  \n",
       "1                    NH         Commercial Photography, Art & Graphics  \n",
       "2                    VA    Charitable And Social Service Organizations  \n",
       "3                    VA  Government Services, Not Elsewhere Classified  \n",
       "4                    VA  Government Services, Not Elsewhere Classified  \n",
       "5                    NJ      Direct Marketing-Not Elsewhere Classified  \n",
       "6                    DC    College, Universities, Professional Schools  \n",
       "7                    DC                Office and Commercial Furniture  \n",
       "8                    MD  Industrial Supplies, Not Elsewhere Classified  \n",
       "9                    DC               Uniforms and Commercial Clothing  "
      ]
     },
     "execution_count": 3,
     "metadata": {},
     "output_type": "execute_result"
    }
   ],
   "source": [
    "import pandas as pd\n",
    "import matplotlib.pyplot as plt\n",
    "import pickle\n",
    "\n",
    "df = pd.read_csv(\"Purchase_Card_Transactions.csv\", sep=\",\")\n",
    "# shows top 10 rows\n",
    "df.head(10)\n",
    "# do something"
   ]
  },
  {
   "cell_type": "code",
   "execution_count": 2,
   "metadata": {},
   "outputs": [],
   "source": [
    "#Testing with data"
   ]
  },
  {
   "cell_type": "code",
   "execution_count": 12,
   "metadata": {},
   "outputs": [
    {
     "data": {
      "text/plain": [
       "3037482"
      ]
     },
     "execution_count": 12,
     "metadata": {},
     "output_type": "execute_result"
    }
   ],
   "source": [
    "df.size"
   ]
  },
  {
   "cell_type": "code",
   "execution_count": 9,
   "metadata": {},
   "outputs": [],
   "source": [
    "dict = {}\n",
    "for ind in df.index: \n",
    "    if df['VENDOR_NAME'][ind] in dict.keys():\n",
    "        dict[df['VENDOR_NAME'][ind]] += df['TRANSACTION_AMOUNT'][ind]\n",
    "    else:\n",
    "        dict[df['VENDOR_NAME'][ind]] = df['TRANSACTION_AMOUNT'][ind]"
   ]
  },
  {
   "cell_type": "code",
   "execution_count": 10,
   "metadata": {},
   "outputs": [],
   "source": [
    "with open('vendor_net_worth.pickle', 'wb') as f:\n",
    "    pickle.dump(dict, f)"
   ]
  },
  {
   "cell_type": "code",
   "execution_count": 11,
   "metadata": {},
   "outputs": [],
   "source": [
    "with open('vendor_net_worth.pickle', 'rb') as f:\n",
    "    vendor_net = pickle.load(f)"
   ]
  },
  {
   "cell_type": "code",
   "execution_count": 15,
   "metadata": {},
   "outputs": [
    {
     "data": {
      "text/plain": [
       "2778631.0199999963"
      ]
     },
     "execution_count": 15,
     "metadata": {},
     "output_type": "execute_result"
    }
   ],
   "source": [
    "vendor_net['CAPITAL SERVICES AND S']"
   ]
  },
  {
   "cell_type": "code",
   "execution_count": 22,
   "metadata": {},
   "outputs": [],
   "source": [
    "vendorNegNet = {}\n",
    "vendorPosNet = {}\n",
    "vendorZeroNet = {}\n",
    "for key, value in vendor_net.items():\n",
    "    if value < 0:\n",
    "        vendorNegNet[key] = value\n",
    "    elif value == 0:\n",
    "        vendorZeroNet[key] = value\n",
    "    else:\n",
    "        vendorPosNet[key] = value\n"
   ]
  },
  {
   "cell_type": "code",
   "execution_count": 32,
   "metadata": {},
   "outputs": [
    {
     "name": "stdout",
     "output_type": "stream",
     "text": [
      "642\n",
      "54448\n",
      "469\n",
      "{'Positive Net': 0.9800032397991325, 'Negative Net': 0.01155528357241851, 'Zero Net': 0.008441476628449036}\n",
      "55559\n"
     ]
    },
    {
     "data": {
      "text/plain": [
       "<BarContainer object of 3 artists>"
      ]
     },
     "execution_count": 32,
     "metadata": {},
     "output_type": "execute_result"
    },
    {
     "data": {
      "image/png": "[encoded data removed]",
      "text/plain": [
       "<Figure size 432x288 with 1 Axes>"
      ]
     },
     "metadata": {
      "needs_background": "light"
     },
     "output_type": "display_data"
    }
   ],
   "source": [
    "print(len(vendorNegNet))\n",
    "print(len(vendorPosNet))\n",
    "print(len(vendorZeroNet))\n",
    "\n",
    "num_nets = {\"Positive Net\": len(vendorPosNet)/len(vendor_net), \"Negative Net\": len(vendorNegNet)/len(vendor_net), \"Zero Net\": len(vendorZeroNet)/len(vendor_net)}\n",
    "\n",
    "keys = num_nets.keys()\n",
    "values = num_nets.values()\n",
    "print(num_nets)\n",
    "print(len(vendor_net))\n",
    "plt.bar(keys, values)\n"
   ]
  },
  {
   "cell_type": "code",
   "execution_count": 33,
   "metadata": {},
   "outputs": [],
   "source": [
    "agency_net = {}\n",
    "for ind in df.index: \n",
    "    if df['AGENCY'][ind] in dict.keys():\n",
    "        agency_net[df['AGENCY'][ind]] += df['TRANSACTION_AMOUNT'][ind]\n",
    "    else:\n",
    "        agency_net[df['AGENCY'][ind]] = df['TRANSACTION_AMOUNT'][ind]"
   ]
  },
  {
   "cell_type": "code",
   "execution_count": 36,
   "metadata": {},
   "outputs": [],
   "source": [
    "agencyNegNet = {}\n",
    "agencyPosNet = {}\n",
    "agencyZeroNet = {}\n",
    "for key, value in agency_net.items():\n",
    "    if value < 0:\n",
    "        agencyNegNet[key] = value\n",
    "    elif value == 0:\n",
    "        agencyZeroNet[key] = value\n",
    "    else:\n",
    "        agencyPosNet[key] = value"
   ]
  },
  {
   "cell_type": "code",
   "execution_count": 38,
   "metadata": {},
   "outputs": [
    {
     "name": "stdout",
     "output_type": "stream",
     "text": [
      "10\n",
      "79\n",
      "0\n",
      "{'District Department of Transportation': -1995.0, 'Office of Contracting & Procurement': -2160.12, 'Office of the Chief Financial Officer': -32.36, 'DC Taxicab Commission': -560.91, 'Office of Human Rights': -1849.81, 'DC Lottery & Charitable Games Control Board': -115.65, 'District of Columbia Public Schools': -34.44, 'Public Service Commission': -14.95, 'DC BD OF ETHICS AND GOVT ACCOUNTABILITY': -96.0, 'DC Health Benefit Exchange': -450.0}\n"
     ]
    }
   ],
   "source": [
    "print(len(agencyNegNet))\n",
    "print(len(agencyPosNet))\n",
    "print(len(agencyZeroNet))\n",
    "print(agencyNegNet)"
   ]
  },
  {
   "cell_type": "code",
   "execution_count": 48,
   "metadata": {},
   "outputs": [
    {
     "name": "stdout",
     "output_type": "stream",
     "text": [
      "2009\n",
      "{'2009': 4.75}\n"
     ]
    }
   ],
   "source": [
    "dict = {}\n",
    "for ind in df.index: \n",
    "    print(df['TRANSACTION_DATE'][ind][0:4])\n",
    "    if df['TRANSACTION_DATE'][ind][0:4] in dict.keys():\n",
    "        dict[df['TRANSACTION_DATE'][ind][0:4]] += df['TRANSACTION_AMOUNT'][ind]\n",
    "    else:\n",
    "        dict[df['TRANSACTION_DATE'][ind][0:4]] = df['TRANSACTION_AMOUNT'][ind]\n",
    "    break;\n",
    "\n",
    "    print(dict)"
   ]
  },
  {
   "cell_type": "code",
   "execution_count": 71,
   "metadata": {},
   "outputs": [],
   "source": [
    "total = 0\n",
    "human_serv = {}\n",
    "total = 0\n",
    "for i in range(2009, 2020):\n",
    "    for ind in df.index:\n",
    "        if df['AGENCY'][ind] == \"DC Department of Human Resources\" and df['TRANSACTION_DATE'][ind][0:4] == str(i):\n",
    "            total += df['TRANSACTION_AMOUNT'][ind]\n",
    "    human_serv[i] = total\n",
    "    total = 0\n",
    "\n"
   ]
  },
  {
   "cell_type": "code",
   "execution_count": 72,
   "metadata": {},
   "outputs": [
    {
     "data": {
      "text/plain": [
       "<BarContainer object of 11 artists>"
      ]
     },
     "execution_count": 72,
     "metadata": {},
     "output_type": "execute_result"
    },
    {
     "data": {
      "image/png": "[encoded data removed]",
      "text/plain": [
       "<Figure size 432x288 with 1 Axes>"
      ]
     },
     "metadata": {
      "needs_background": "light"
     },
     "output_type": "display_data"
    }
   ],
   "source": [
    "dates = list(human_serv.keys())           # list() needed for python 3.x\n",
    "prices = list(human_serv.values())        # ditto\n",
    "plt.bar(dates, prices)"
   ]
  },
  {
   "cell_type": "code",
   "execution_count": 70,
   "metadata": {},
   "outputs": [
    {
     "name": "stdout",
     "output_type": "stream",
     "text": [
      "315978.68999999994\n",
      "315978.68999999994\n"
     ]
    }
   ],
   "source": [
    "total = 0\n",
    "for ind in df.index:\n",
    "    if df['AGENCY'][ind] == \"Department of Human Services\" and df['TRANSACTION_DATE'][ind][0:4] == '2009':\n",
    "        total += df['TRANSACTION_AMOUNT'][ind]\n",
    "print(total)\n",
    "print(human_serv[2009])"
   ]
  }
 ],
 "metadata": {
  "kernelspec": {
   "display_name": "Python 3",
   "language": "python",
   "name": "python3"
  },
  "language_info": {
   "codemirror_mode": {
    "name": "ipython",
    "version": 3
   },
   "file_extension": ".py",
   "mimetype": "text/x-python",
   "name": "python",
   "nbconvert_exporter": "python",
   "pygments_lexer": "ipython3",
   "version": "3.7.3"
  }
 },
 "nbformat": 4,
 "nbformat_minor": 2
}
